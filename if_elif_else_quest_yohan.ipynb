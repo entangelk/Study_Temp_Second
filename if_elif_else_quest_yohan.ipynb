{
  "nbformat": 4,
  "nbformat_minor": 0,
  "metadata": {
    "colab": {
      "provenance": [],
      "authorship_tag": "ABX9TyNQIS/RjhmarKfqZJT0CcWJ",
      "include_colab_link": true
    },
    "kernelspec": {
      "name": "python3",
      "display_name": "Python 3"
    },
    "language_info": {
      "name": "python"
    }
  },
  "cells": [
    {
      "cell_type": "markdown",
      "metadata": {
        "id": "view-in-github",
        "colab_type": "text"
      },
      "source": [
        "<a href=\"https://colab.research.google.com/github/entangelk/Study_Temp_Second/blob/main/if_elif_else_quest_yohan.ipynb\" target=\"_parent\"><img src=\"https://colab.research.google.com/assets/colab-badge.svg\" alt=\"Open In Colab\"/></a>"
      ]
    },
    {
      "cell_type": "code",
      "execution_count": 2,
      "metadata": {
        "colab": {
          "base_uri": "https://localhost:8080/"
        },
        "id": "Db_kcMOcvm8t",
        "outputId": "5ad9839e-8c0e-4870-d5e4-6ed38f2026a4"
      },
      "outputs": [
        {
          "output_type": "stream",
          "name": "stdout",
          "text": [
            "False\n",
            "True\n",
            "True\n",
            "True\n",
            "False\n",
            "B 학점입니다.\n"
          ]
        }
      ],
      "source": [
        "# q4 - if elif else with 숫자\n",
        "\n",
        "# 기준치에 대한 스코어값 T/F 확인\n",
        "scores = 81\n",
        "#90 이상이면 A\n",
        "print(scores >= 90)\n",
        "#80 이상이면 B\n",
        "print(scores >= 80)\n",
        "#70 이상이면 C\n",
        "print(scores >= 70)\n",
        "#60 이상이면 D\n",
        "print(scores >= 60)\n",
        "#60 미만이면 F\n",
        "print(scores < 60)\n",
        "\n",
        "\n",
        "if (scores >= 90): # A 학점 판별\n",
        "  pass\n",
        "  print('A 학점입니다.')\n",
        "elif (scores >= 80): # B 학점 판별\n",
        "  pass\n",
        "  print('B 학점입니다.')\n",
        "elif (scores >= 70):# C 학점 판별\n",
        "  pass\n",
        "  print('C 학점입니다.')\n",
        "elif (scores >= 60): # D 학점 판별\n",
        "  pass\n",
        "  print('D 학점입니다.')\n",
        "else: # 예외 판별 - F 학점 판별\n",
        "  pass\n",
        "  print('F 학점입니다.')"
      ]
    }
  ]
}