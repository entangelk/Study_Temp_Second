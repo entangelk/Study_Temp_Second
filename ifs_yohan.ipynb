{
  "nbformat": 4,
  "nbformat_minor": 0,
  "metadata": {
    "colab": {
      "provenance": [],
      "include_colab_link": true
    },
    "kernelspec": {
      "name": "python3",
      "display_name": "Python 3"
    },
    "language_info": {
      "name": "python"
    }
  },
  "cells": [
    {
      "cell_type": "markdown",
      "metadata": {
        "id": "view-in-github",
        "colab_type": "text"
      },
      "source": [
        "<a href=\"https://colab.research.google.com/github/entangelk/Study_Temp_Second/blob/main/ifs_yohan.ipynb\" target=\"_parent\"><img src=\"https://colab.research.google.com/assets/colab-badge.svg\" alt=\"Open In Colab\"/></a>"
      ]
    },
    {
      "cell_type": "code",
      "execution_count": null,
      "metadata": {
        "colab": {
          "base_uri": "https://localhost:8080/"
        },
        "id": "FOkH38d7WNhn",
        "outputId": "dfad442b-2460-47f2-b189-bdb80114a92e"
      },
      "outputs": [
        {
          "output_type": "stream",
          "name": "stdout",
          "text": [
            "축하드립니다.\n",
            "좀 더 현명했으면 합니다.\n"
          ]
        }
      ],
      "source": [
        "# if with 숫자\n",
        "print('축하드립니다.')\n",
        "print('좀 더 현명했으면 합니다.')"
      ]
    },
    {
      "cell_type": "code",
      "source": [
        "score = 60\n",
        "if score >= 60: # 조건 = 변수 + 부등호\n",
        "  pass\n",
        "  print('축하드립니다.')"
      ],
      "metadata": {
        "colab": {
          "base_uri": "https://localhost:8080/"
        },
        "id": "aeLa1rG3Wv3E",
        "outputId": "aa6562f9-a0df-4740-a10c-8a25e8a040fd"
      },
      "execution_count": null,
      "outputs": [
        {
          "output_type": "stream",
          "name": "stdout",
          "text": [
            "축하드립니다.\n"
          ]
        }
      ]
    },
    {
      "cell_type": "code",
      "source": [
        "print(score >= 61)"
      ],
      "metadata": {
        "colab": {
          "base_uri": "https://localhost:8080/"
        },
        "id": "m2U6j_ySZ4bC",
        "outputId": "45ec161f-fe4e-4436-8a0d-0980b0285bc6"
      },
      "execution_count": null,
      "outputs": [
        {
          "output_type": "stream",
          "name": "stdout",
          "text": [
            "False\n"
          ]
        }
      ]
    },
    {
      "cell_type": "code",
      "source": [
        "# if with 숫자\n",
        "print('축하드립니다.')\n",
        "print('좀 더 현명했으면 합니다.')\n",
        "\n",
        "score = 60\n",
        "if score >= 60: # 조건 = 변수 + 부등호\n",
        "\tpass\n",
        "\tprint('축하드립니다.')\n",
        "\n",
        "print(score >= 61)"
      ],
      "metadata": {
        "id": "3klDyL394O3n",
        "outputId": "3886596c-8bf1-432d-f5f1-9cb529c2964e",
        "colab": {
          "base_uri": "https://localhost:8080/"
        }
      },
      "execution_count": null,
      "outputs": [
        {
          "output_type": "stream",
          "name": "stdout",
          "text": [
            "축하드립니다.\n",
            "좀 더 현명했으면 합니다.\n",
            "축하드립니다.\n",
            "False\n"
          ]
        }
      ]
    },
    {
      "cell_type": "code",
      "source": [
        "# if else with 숫자\n",
        "'''점수 100점 만점에\n",
        "90점 이상이면 A\n",
        "80점 이상, 90점 미만이면 B\n",
        "70점 이상, 80점 미만이면 C\n",
        "60점 이상, 70점 미만이면 D\n",
        "60점 미만이면 F\n",
        "'''\n",
        "score = 85\n",
        "\n",
        "# 90 이상이면 A\n",
        "if (score >= 90): # condition = 변수 + 부등호 + 기준값\n",
        "  pass\n",
        "  print('A 학점입니다.')\n",
        "\n",
        "print('Program End !')"
      ],
      "metadata": {
        "colab": {
          "base_uri": "https://localhost:8080/"
        },
        "id": "nJ9hWNS1JT4B",
        "outputId": "51cf3c00-62b2-4734-951d-439a82e4d4a4"
      },
      "execution_count": null,
      "outputs": [
        {
          "output_type": "stream",
          "name": "stdout",
          "text": [
            "Program End !\n"
          ]
        }
      ]
    },
    {
      "cell_type": "code",
      "source": [
        "# if else with 숫자\n",
        "\n",
        "## 합격 or 불합격 여부 판단 (60점 이상)\n",
        "score = 54\n",
        "if (score >= 60):\n",
        "  pass\n",
        "  print('합격')\n",
        "else :\n",
        "  pass\n",
        "  print('불합격')\n",
        "\n",
        "print('Program End !')\n",
        "\n"
      ],
      "metadata": {
        "colab": {
          "base_uri": "https://localhost:8080/"
        },
        "id": "Z3meKI_pM3Uz",
        "outputId": "b53096d0-6656-486b-ca8f-e41d29156585"
      },
      "execution_count": null,
      "outputs": [
        {
          "output_type": "stream",
          "name": "stdout",
          "text": [
            "불합격\n",
            "Program End !\n"
          ]
        }
      ]
    },
    {
      "cell_type": "code",
      "source": [
        "# if else with 문자\n",
        "\n",
        "## 합격 or 불합격 여부 판단 (변수 값 따라 분기)\n",
        "str_pass = '합격'\n",
        "print(str_pass == '합격') # 긍정 질문\n",
        "print(str_pass != '합격') # 부정 질문\n",
        "print('합격' in str_pass)\n",
        "\n",
        "if (str_pass == '합격'):\n",
        "  pass\n",
        "  print(str_pass)\n",
        "else:\n",
        "  pass\n",
        "  print('불'+str_pass)\n",
        "\n",
        "print('Program End !')"
      ],
      "metadata": {
        "colab": {
          "base_uri": "https://localhost:8080/"
        },
        "id": "MleBfCLqjRr3",
        "outputId": "2831e5fb-3e2b-408b-96ff-01e56f9d2c01"
      },
      "execution_count": 14,
      "outputs": [
        {
          "output_type": "stream",
          "name": "stdout",
          "text": [
            "True\n",
            "False\n",
            "True\n",
            "합격\n",
            "Program End !\n"
          ]
        }
      ]
    },
    {
      "cell_type": "code",
      "source": [
        "# if elif else with 숫자\n",
        "scores = 81\n",
        "#80 이상이면 B\n",
        "print(scores >= 80)\n",
        "#70 이상이면 C\n",
        "print(scores >= 70)\n",
        "#60 미만이면 F\n",
        "print(scores < 60)\n",
        "\n",
        "\n",
        "if (scores >= 80):\n",
        "  pass\n",
        "  print('B 학점입니다.')\n",
        "elif (scores >= 70):\n",
        "  pass\n",
        "  print('C 학점입니다.')\n",
        "else:\n",
        "  pass\n",
        "  print('F 학점입니다.')"
      ],
      "metadata": {
        "colab": {
          "base_uri": "https://localhost:8080/"
        },
        "id": "E3znGeJzqFko",
        "outputId": "baefbeeb-e96e-4897-98fa-58255b8c0925"
      },
      "execution_count": 18,
      "outputs": [
        {
          "output_type": "stream",
          "name": "stdout",
          "text": [
            "True\n",
            "True\n",
            "False\n",
            "B 학점입니다.\n"
          ]
        }
      ]
    }
  ]
}