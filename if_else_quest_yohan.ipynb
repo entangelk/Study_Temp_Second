{
  "nbformat": 4,
  "nbformat_minor": 0,
  "metadata": {
    "colab": {
      "provenance": [],
      "authorship_tag": "ABX9TyP70FQsH9pz56/EuuFx0Zzw",
      "include_colab_link": true
    },
    "kernelspec": {
      "name": "python3",
      "display_name": "Python 3"
    },
    "language_info": {
      "name": "python"
    }
  },
  "cells": [
    {
      "cell_type": "markdown",
      "metadata": {
        "id": "view-in-github",
        "colab_type": "text"
      },
      "source": [
        "<a href=\"https://colab.research.google.com/github/entangelk/Study_Temp_Second/blob/main/if_else_quest_yohan.ipynb\" target=\"_parent\"><img src=\"https://colab.research.google.com/assets/colab-badge.svg\" alt=\"Open In Colab\"/></a>"
      ]
    },
    {
      "cell_type": "code",
      "execution_count": null,
      "metadata": {
        "colab": {
          "base_uri": "https://localhost:8080/"
        },
        "id": "SeIJt-5kaQt8",
        "outputId": "479dace1-a0db-4737-8da9-af7894e51b61"
      },
      "outputs": [
        {
          "output_type": "stream",
          "name": "stdout",
          "text": [
            "왼쪽길 입니다.\n",
            "Program end!\n"
          ]
        }
      ],
      "source": [
        "#q3 왼쪽, 오른쪽 갈림길을 if문으로 작성\n",
        "\n",
        "# dir이 1일때 왼쪽으로 정의\n",
        "dir = 1\n",
        "\n",
        "if (dir == 1) :\n",
        "  pass\n",
        "  print('왼쪽길 입니다.')\n",
        "else :\n",
        "  pass\n",
        "  print('오른쪽길 입니다.')\n",
        "\n",
        "print('Program end!')"
      ]
    }
  ]
}