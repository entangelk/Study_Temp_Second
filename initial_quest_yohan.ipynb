{
  "nbformat": 4,
  "nbformat_minor": 0,
  "metadata": {
    "colab": {
      "provenance": [],
      "include_colab_link": true
    },
    "kernelspec": {
      "name": "python3",
      "display_name": "Python 3"
    },
    "language_info": {
      "name": "python"
    }
  },
  "cells": [
    {
      "cell_type": "markdown",
      "metadata": {
        "id": "view-in-github",
        "colab_type": "text"
      },
      "source": [
        "<a href=\"https://colab.research.google.com/github/entangelk/Study_Temp_Second/blob/main/initial_quest_yohan.ipynb\" target=\"_parent\"><img src=\"https://colab.research.google.com/assets/colab-badge.svg\" alt=\"Open In Colab\"/></a>"
      ]
    },
    {
      "cell_type": "code",
      "execution_count": null,
      "metadata": {
        "colab": {
          "base_uri": "https://localhost:8080/"
        },
        "id": "cCLAMBicFixU",
        "outputId": "48c013f9-a161-4c8d-b0d8-50da266a7351"
      },
      "outputs": [
        {
          "output_type": "stream",
          "name": "stdout",
          "text": [
            "28을 곱셈했음\n",
            "9을 곱셈했음\n"
          ]
        }
      ],
      "source": [
        "# 변수 선언 후 출력하기\n",
        "\n",
        "a = 2\n",
        "b = 7\n",
        "c = 3\n",
        "\n",
        "input_first = a * a * b\n",
        "input_second = c * c\n",
        "\n",
        "st_first = str(input_first)\n",
        "st_second = str(input_second)\n",
        "\n",
        "print(st_first + '을 곱셈했음')\n",
        "print(st_second + '을 곱셈했음')"
      ]
    }
  ]
}